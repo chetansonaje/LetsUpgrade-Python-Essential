{
  "nbformat": 4,
  "nbformat_minor": 0,
  "metadata": {
    "colab": {
      "name": "Untitled2.ipynb",
      "provenance": [],
      "collapsed_sections": [],
      "authorship_tag": "ABX9TyO/HistlS6J7Z1/xNSXofP7",
      "include_colab_link": true
    },
    "kernelspec": {
      "name": "python3",
      "display_name": "Python 3"
    }
  },
  "cells": [
    {
      "cell_type": "markdown",
      "metadata": {
        "id": "view-in-github",
        "colab_type": "text"
      },
      "source": [
        "<a href=\"https://colab.research.google.com/github/chetansonaje/LetsUpgrade-Python-Essential/blob/master/Day%202.ipynb\" target=\"_parent\"><img src=\"https://colab.research.google.com/assets/colab-badge.svg\" alt=\"Open In Colab\"/></a>"
      ]
    },
    {
      "cell_type": "code",
      "metadata": {
        "id": "XmRYuioSUAy4",
        "colab_type": "code",
        "colab": {
          "base_uri": "https://localhost:8080/",
          "height": 102
        },
        "outputId": "dce596b4-a839-470a-978a-63c55a5daa3e"
      },
      "source": [
        " \n",
        "#List\n",
        "list =['qw',12,'gh',56]\n",
        "list1 =[18,'fg']\n",
        "print (list)\n",
        "print (list +list1)\n",
        "print (list[0])\n",
        "print (list1 *2)\n",
        "print (list[2:])"
      ],
      "execution_count": 82,
      "outputs": [
        {
          "output_type": "stream",
          "text": [
            "['qw', 12, 'gh', 56]\n",
            "['qw', 12, 'gh', 56, 18, 'fg']\n",
            "qw\n",
            "[18, 'fg', 18, 'fg']\n",
            "['gh', 56]\n"
          ],
          "name": "stdout"
        }
      ]
    },
    {
      "cell_type": "code",
      "metadata": {
        "id": "WZR0upS-UEIB",
        "colab_type": "code",
        "colab": {
          "base_uri": "https://localhost:8080/",
          "height": 139
        },
        "outputId": "c9dc0ee7-f404-44c6-d04c-8f048103a6c3"
      },
      "source": [
        " \n",
        "#Dictionary\n",
        "dict = {}\n",
        "dict = {'name':'Chetan', 'Id':25, 'City': 'Mumbai',1:[4,5]}\n",
        "dict1 ={1:2,3:5}\n",
        "print (dict)\n",
        "print (dict.values())\n",
        "print (dict.keys())\n",
        "print (dict1)\n",
        "print (dict1.values())\n",
        "print (dict['name'])"
      ],
      "execution_count": 83,
      "outputs": [
        {
          "output_type": "stream",
          "text": [
            "{'name': 'Chetan', 'Id': 25, 'City': 'Mumbai', 1: [4, 5]}\n",
            "dict_values(['Chetan', 25, 'Mumbai', [4, 5]])\n",
            "dict_keys(['name', 'Id', 'City', 1])\n",
            "{1: 2, 3: 5}\n",
            "dict_values([2, 5])\n",
            "Chetan\n"
          ],
          "name": "stdout"
        }
      ]
    },
    {
      "cell_type": "code",
      "metadata": {
        "id": "uR4azGTZUEaX",
        "colab_type": "code",
        "colab": {
          "base_uri": "https://localhost:8080/",
          "height": 153
        },
        "outputId": "26324b50-0631-4c22-84bf-7409f17267df"
      },
      "source": [
        " \n",
        "#set\n",
        "st = {\"chetan\",2,2,4,3.3,5,5}\n",
        "st1 = {3,3,2}\n",
        "print (st)\n",
        "print (st1)\n",
        "print (len(st))\n",
        "st.remove(4)\n",
        "print (st)\n",
        "st.add(9)\n",
        "print(st)\n",
        "st.update(st1)\n",
        "print (st)\n",
        "b=st.pop()\n",
        "print (b)\n",
        "st.discard(2)\n",
        "print (st)"
      ],
      "execution_count": 84,
      "outputs": [
        {
          "output_type": "stream",
          "text": [
            "{2, 3.3, 4, 5, 'chetan'}\n",
            "{2, 3}\n",
            "5\n",
            "{2, 3.3, 5, 'chetan'}\n",
            "{2, 3.3, 5, 9, 'chetan'}\n",
            "{2, 3.3, 3, 5, 9, 'chetan'}\n",
            "2\n",
            "{3.3, 3, 5, 9, 'chetan'}\n"
          ],
          "name": "stdout"
        }
      ]
    },
    {
      "cell_type": "code",
      "metadata": {
        "id": "QALxMORHUEYW",
        "colab_type": "code",
        "colab": {
          "base_uri": "https://localhost:8080/",
          "height": 122
        },
        "outputId": "5dc90327-eb93-4a9f-e771-a088b80587a5"
      },
      "source": [
        " \n",
        "#Tuple\n",
        "tuple =(12,4.5,12,'hj','ty')\n",
        "tuple1=(4,4,4.5)\n",
        "print (tuple)\n",
        "print (tuple1)\n",
        "print (tuple[3])\n",
        "print (tuple+tuple1)\n",
        "print (tuple1 *2)"
      ],
      "execution_count": 85,
      "outputs": [
        {
          "output_type": "stream",
          "text": [
            "(12, 4.5, 12, 'hj', 'ty')\n",
            "(4, 4, 4.5)\n",
            "hj\n",
            "(12, 4.5, 12, 'hj', 'ty', 4, 4, 4.5)\n",
            "(4, 4, 4.5, 4, 4, 4.5)\n"
          ],
          "name": "stdout"
        }
      ]
    },
    {
      "cell_type": "code",
      "metadata": {
        "id": "RNRw2bL2UEXA",
        "colab_type": "code",
        "colab": {
          "base_uri": "https://localhost:8080/",
          "height": 102
        },
        "outputId": "4d46335d-9de9-4077-ac93-d539ae6f9b6c"
      },
      "source": [
        " \n",
        "#String\n",
        "str = 'lets upgradians'\n",
        "print (str)\n",
        "print (str * 2)\n",
        "print (str +'34')\n",
        "print (str[0])\n",
        "print (str[5:8])"
      ],
      "execution_count": 86,
      "outputs": [
        {
          "output_type": "stream",
          "text": [
            "lets upgradians\n",
            "lets upgradianslets upgradians\n",
            "lets upgradians34\n",
            "l\n",
            "upg\n"
          ],
          "name": "stdout"
        }
      ]
    },
    {
      "cell_type": "code",
      "metadata": {
        "id": "2C_anvFqUEUd",
        "colab_type": "code",
        "colab": {}
      },
      "source": [
        ""
      ],
      "execution_count": null,
      "outputs": []
    },
    {
      "cell_type": "code",
      "metadata": {
        "id": "PQOreARZUESC",
        "colab_type": "code",
        "colab": {}
      },
      "source": [
        ""
      ],
      "execution_count": null,
      "outputs": []
    },
    {
      "cell_type": "code",
      "metadata": {
        "id": "EwnERf7nUEOl",
        "colab_type": "code",
        "colab": {}
      },
      "source": [
        ""
      ],
      "execution_count": null,
      "outputs": []
    },
    {
      "cell_type": "code",
      "metadata": {
        "id": "dIsdCPFGUDNb",
        "colab_type": "code",
        "colab": {}
      },
      "source": [
        ""
      ],
      "execution_count": null,
      "outputs": []
    }
  ]
}